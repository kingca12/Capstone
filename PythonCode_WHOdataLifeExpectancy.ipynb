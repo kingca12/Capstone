{
  "nbformat": 4,
  "nbformat_minor": 0,
  "metadata": {
    "colab": {
      "name": "PythonCode_WHOdataLifeExpectancy.ipynb",
      "provenance": [],
      "collapsed_sections": [],
      "authorship_tag": "ABX9TyPlwezLQiEdhNPeDyMTJTnA",
      "include_colab_link": true
    },
    "kernelspec": {
      "name": "python3",
      "display_name": "Python 3"
    }
  },
  "cells": [
    {
      "cell_type": "markdown",
      "metadata": {
        "id": "view-in-github",
        "colab_type": "text"
      },
      "source": [
        "<a href=\"https://colab.research.google.com/github/kingca12/Capstone/blob/master/PythonCode_WHOdataLifeExpectancy.ipynb\" target=\"_parent\"><img src=\"https://colab.research.google.com/assets/colab-badge.svg\" alt=\"Open In Colab\"/></a>"
      ]
    },
    {
      "cell_type": "code",
      "metadata": {
        "id": "MRWInyHXm871",
        "colab_type": "code",
        "colab": {
          "base_uri": "https://localhost:8080/",
          "height": 295
        },
        "outputId": "f1480cda-fd82-4704-d7a1-1f4b9f2f6672"
      },
      "source": [
        "#IMPORTS\n",
        "import pandas as pd\n",
        "import numpy as np\n",
        "import seaborn as sns\n",
        "import statsmodels.api as sm\n",
        "\n",
        "#Datasets\n",
        "WHO = pd.read_csv('https://raw.githubusercontent.com/kingca12/Capstone/master/WHO%20data.csv')\n",
        "regions = pd.read_csv('https://raw.githubusercontent.com/kingca12/Capstone/master/Regions.csv')\n",
        "#Merge datasets\n",
        "WHOdata=pd.merge(WHO, regions)\n",
        "WHOdata\n",
        "\n",
        "\n",
        "#DATA EXPLORATION AND CLEANING\n",
        "WHOdata.describe()\n",
        "WHOdata.head()\n",
        "WHOdata.dtypes\n",
        "\n",
        "#Variables of interest\n",
        "  #Country\n",
        "  #Population\n",
        "  #Income Group\n",
        "  #WHO_Regio\n",
        "  #Democracy_score\n",
        "  #Female_labour_force\n",
        "  #Inequality_index\n",
        "  #Population median age (years)\n",
        "\n",
        "  #Population living below the poverty line (% living on &lt; US$1 per day)\n",
        "\n",
        "  #Life expectancy at birth (years) both sexes\n",
        "  #Life expectancy at birth (years) female\n",
        "  #Life expectancy at birth (years) male\n",
        "  #Maternal mortality ratio (per 100 000 live births)\n",
        "\n",
        "  #Literacy_rate_adult_female\n",
        "  #Literacy_rate_adult_male\n",
        "  #Literacy_rate_adult_total\n",
        "  #Literacy_rate_youth_female\n",
        "  #Literacy_rate_youth_male\n",
        "  #Literacy_rate_youth_total\n",
        "  #Net primary school enrolment ratio female (%)\n",
        "  #Net primary school enrolment ratio male (%)\n",
        "\n",
        "WHOdata.rename(columns={'Population living below the poverty line (% living on &lt; US$1 per day)':'Pop_below_pov_line', 'Population median age (years)': 'Pop_median_age', 'WHO_Regio':'WHO_Region', \n",
        "                        'Net primary school enrolment ratio male (%)': 'males_primary_school','Net primary school enrolment ratio female (%)': 'females_primary_school', \n",
        "                        'Life expectancy at birth (years) both sexes':'Life_exp_all', 'Life expectancy at birth (years) male':'Life_exp_male',\n",
        "                        'Life expectancy at birth (years) female':'Life_exp_female', \"Maternal mortality ratio (per 100 000 live births)\":\"Maternal_mort\", \"Income Group\":\"Income_Group\"}, inplace=True)\n",
        "\n",
        "WHOdata2=WHOdata[['Country','Population','Income_Group', 'WHO_Region','Democracy_score','Female_labour_force', 'Inequality_index', \n",
        "                 'Pop_median_age', 'Pop_below_pov_line', \n",
        "                  'Life_exp_all','Life_exp_male', 'Life_exp_female',\n",
        "                  'Maternal_mort', 'Literacy_rate_adult_female', 'Literacy_rate_adult_male',\n",
        "                  'Literacy_rate_adult_total', 'Literacy_rate_youth_female', 'Literacy_rate_youth_male', 'Literacy_rate_youth_total', \n",
        "                  'females_primary_school', 'males_primary_school'\n",
        "                  ]]\n",
        "\n",
        "\n",
        "#DATA EXPLORATION\n",
        "WHOdata2.dtypes\n",
        "WHOdata2.describe()\n",
        "Byregion=pd.pivot_table(data=WHOdata2,index=['WHO_Region']) \n",
        "Byregion\n",
        "WHOdata2.groupby(['WHO_Region'])['Life_exp_all'].median().plot(kind='bar')\n",
        "WHOdata2.groupby(['WHO_Region'])['Life_exp_female'].count().plot(kind='bar')\n",
        "WHOdata2.groupby(['WHO_Region'])['Life_exp_male'].median().plot(kind='bar')\n",
        "WHOdata2.groupby(['Income_Group'])['Life_exp_all'].median().plot(kind='bar')\n",
        "\n",
        "\n",
        "#DATA ANALYSIS/RESEARCH QUESTIONS\n",
        "  #1 Are life expectancy and maternal mortality rate correlated?\n",
        "sns.regplot(x='Life_exp_all', y='Maternal_mort', data=WHOdata2) #very strong correlation between life exp/maternal mortality\n",
        "WHOdata2.Life_exp_all.corr(WHOdata2.Maternal_mort)\n",
        "  \n",
        "  \n",
        "  #2 - Does poverty/inequality/democracy predict life expectancy?\n",
        "sns.regplot(x='Pop_below_pov_line', y='Life_exp_all', data=WHOdata2)\n",
        "WHOdata2.Pop_below_pov_line.corr(WHOdata2.Life_exp_all) #moderate/strong correlation between life expectancy and pop below poverty line\n",
        "\n",
        "sns.regplot(x='Life_exp_all', y='Inequality_index', data=WHOdata2)\n",
        "WHOdata2.Life_exp_all.corr(WHOdata2.Inequality_index) #weak correlation between life expectancy and inequality index\n",
        "\n",
        "sns.regplot(x='Life_exp_all', y='Democracy_score', data=WHOdata2)\n",
        "WHOdata2.Life_exp_all.corr(WHOdata2.Democracy_score) #weak/no correlation between life expectancy and democracy score\n",
        "\n",
        "sns.relplot(x=\"Life_exp_all\", y='Pop_below_pov_line', col=\"WHO_Region\", kind=\"scatter\", data=WHOdata2) #by region\n",
        "\n",
        "WHOdata3=WHOdata2.dropna(axis=0, subset=['Pop_below_pov_line', 'Life_exp_all'])\n",
        "model = sm.OLS(WHOdata3.Life_exp_all, sm.add_constant(WHOdata3.Pop_below_pov_line))\n",
        "result = model.fit()\n",
        "print(result.summary())\n",
        "\n",
        " \n",
        "  #3 Does female education/literacy predict education/literacy/workforce?\n",
        "sns.regplot(x='females_primary_school', y='Female_labour_force', data=WHOdata2)\n",
        "WHOdata2.females_primary_school.corr(WHOdata2.Female_labour_force) #weak/no correlation between female primary school attendance and female labour force\n",
        "\n",
        "sns.regplot(x='Literacy_rate_youth_female', y='Literacy_rate_adult_female', data=WHOdata2)\n",
        "WHOdata2.Literacy_rate_youth_female.corr(WHOdata2.Literacy_rate_adult_female) #very strong correlation between female youth literacy and female adult literacy\n",
        "  \n",
        "sns.regplot(x='Literacy_rate_youth_female', y='Female_labour_force', data=WHOdata2)\n",
        "WHOdata2.Literacy_rate_youth_female.corr(WHOdata2.Female_labour_force) #weak correlation between female youth literacy and female labour force\n",
        "  \n",
        "sns.regplot(x='Literacy_rate_adult_female', y='Female_labour_force', data=WHOdata2)\n",
        "WHOdata2.Literacy_rate_adult_female.corr(WHOdata2.Female_labour_force) #weak/no correlation between female adult literacy and female labour force\n",
        "\n",
        "\n",
        "  #4 Does female education/literacy/female workforce predict maternal mortality rate?\n",
        "sns.regplot(x='Literacy_rate_adult_female', y='Maternal_mort', data=WHOdata2) #strong correlation between adult female literacy and maternal mortality\n",
        "WHOdata2.Literacy_rate_adult_female.corr(WHOdata2.Maternal_mort)\n",
        "\n",
        "sns.regplot(x='Literacy_rate_adult_male', y='Maternal_mort', data=WHOdata2)\n",
        "WHOdata2.Literacy_rate_adult_male.corr(WHOdata2.Maternal_mort) #strong correlation between adult male literacy and maternal mortality\n",
        "\n",
        "sns.regplot(x='Literacy_rate_adult_total', y='Maternal_mort', data=WHOdata2)\n",
        "WHOdata2.Literacy_rate_adult_total.corr(WHOdata2.Maternal_mort) #strong correlation between adult literacy and maternal mortality\n",
        "\n",
        "sns.regplot(x='females_primary_school', y='Maternal_mort', data=WHOdata2)\n",
        "WHOdata2.females_primary_school.corr(WHOdata2.Maternal_mort) #strong correlation \n",
        "\n",
        "sns.regplot(x='Female_labour_force', y='Maternal_mort', data=WHOdata2)\n",
        "WHOdata2.Female_labour_force.corr(WHOdata2.Maternal_mort) #weak/no correlation between female labour force and maternal mortality\n",
        "\n",
        "sns.relplot(x=\"Maternal_mort\", y='Literacy_rate_adult_female',\n",
        "                 col=\"WHO_Region\",\n",
        "                 kind=\"scatter\", data=WHOdata2)\n",
        "sns.relplot(x=\"Maternal_mort\", y='Literacy_rate_adult_male',\n",
        "                 col=\"WHO_Region\",\n",
        "                 kind=\"scatter\", data=WHOdata2)\n",
        "sns.relplot(x=\"Maternal_mort\", y='Literacy_rate_adult_total',\n",
        "                 col=\"WHO_Region\",\n",
        "                 kind=\"scatter\", data=WHOdata2)\n",
        "\n",
        "sns.relplot(x=\"Life_exp_female\", y='Literacy_rate_adult_female',\n",
        "                 col=\"WHO_Region\",\n",
        "                 kind=\"scatter\", data=WHOdata2)\n",
        "sns.relplot(x=\"Life_exp_male\", y='Literacy_rate_adult_male',\n",
        "                 col=\"WHO_Region\",\n",
        "                 kind=\"scatter\", data=WHOdata2)\n",
        "sns.relplot(x=\"Life_exp_all\", y='Literacy_rate_adult_total',\n",
        "                 col=\"WHO_Region\",\n",
        "                 kind=\"scatter\", data=WHOdata2)\n",
        "\n",
        "WHOdata4=WHOdata2.dropna(axis=0, subset=['Maternal_mort', 'Literacy_rate_adult_total'])\n",
        "model = sm.OLS(WHOdata4.Maternal_mort, sm.add_constant(WHOdata4.Literacy_rate_adult_total))\n",
        "result = model.fit()\n",
        "print(result.summary()) #Significant correlation between Adult Literacy rate and Life expectancy\n",
        "\n",
        "WHOdata5=WHOdata2.dropna(axis=0, subset=['Literacy_rate_adult_total', 'Maternal_mort'])\n",
        "model = sm.OLS(WHOdata5.Maternal_mort, sm.add_constant(WHOdata5.Literacy_rate_adult_total))\n",
        "result = model.fit()\n",
        "print(result.summary()) #Significant correlation between Adult Literacy rate and maternal mortality\n",
        "\n",
        "WHOdata6=WHOdata2.dropna(axis=0, subset=['Maternal_mort', 'Female_labour_force'])\n",
        "model = sm.OLS(WHOdata6.Maternal_mort, sm.add_constant(WHOdata6.Female_labour_force))\n",
        "result = model.fit()\n",
        "print(result.summary()) #No significant correlation between female labour force and maternal mortality\n",
        "\n",
        "\n",
        "#5 Does democracy predict education/literacy?\n",
        "sns.relplot(x='Literacy_rate_adult_female', y='Income_Group', data=WHOdata2)\n",
        "sns.relplot(x='Literacy_rate_adult_male', y='Income_Group', data=WHOdata2)\n",
        "sns.relplot(x='Literacy_rate_adult_total', y='Income_Group', data=WHOdata2)\n",
        "\n",
        "sns.regplot(x='Literacy_rate_adult_female', y='Democracy_score', data=WHOdata2)\n",
        "WHOdata2.Literacy_rate_adult_male.corr(WHOdata2.Democracy_score) #weak/no correlation between literacy and democ score\n",
        "sns.regplot(x='Literacy_rate_adult_male', y='Democracy_score', data=WHOdata2)\n",
        "WHOdata2.Literacy_rate_adult_female.corr(WHOdata2.Democracy_score) #weak/no correlation between literacy and democ score\n",
        "sns.regplot(x='Literacy_rate_adult_total', y='Democracy_score', data=WHOdata2)\n",
        "WHOdata2.Literacy_rate_adult_total.corr(WHOdata2.Democracy_score) #weak/no correlation between literacy and democ score\n",
        "\n",
        "sns.relplot(x='Literacy_rate_adult_female', y='WHO_Region', data=WHOdata2)\n",
        "sns.relplot(x='Literacy_rate_adult_male', y='WHO_Region', data=WHOdata2)\n",
        "sns.relplot(x='Literacy_rate_adult_total', y='WHO_Region', data=WHOdata2)\n",
        "\n",
        "sns.relplot(x='Maternal_mort', y='WHO_Region', data=WHOdata2)\n",
        "sns.relplot(x='Pop_below_pov_line', y='WHO_Region', data=WHOdata2)\n",
        "sns.relplot(x='Democracy_score', y='WHO_Region', data=WHOdata2)\n",
        "\n"
      ],
      "execution_count": null,
      "outputs": [
        {
          "output_type": "execute_result",
          "data": {
            "text/plain": [
              "-0.8720562078546198"
            ]
          },
          "metadata": {
            "tags": []
          },
          "execution_count": 2
        },
        {
          "output_type": "display_data",
          "data": {
            "image/png": "[encoded data removed]",
            "text/plain": [
              "<Figure size 432x288 with 1 Axes>"
            ]
          },
          "metadata": {
            "tags": [],
            "needs_background": "light"
          }
        }
      ]
    },
    {
      "cell_type": "code",
      "metadata": {
        "id": "CtYzyL8O0dDE",
        "colab_type": "code",
        "colab": {
          "base_uri": "https://localhost:8080/",
          "height": 34
        },
        "outputId": "10bc9c06-7409-4b9c-f0cd-1f0f05b3a312"
      },
      "source": [
        "#EXPORT DATASET\n",
        "WHO = pd.read_csv('https://raw.githubusercontent.com/kingca12/Capstone/master/WHO%20data.csv')\n",
        "regions = pd.read_csv('https://raw.githubusercontent.com/kingca12/Capstone/master/Regions.csv')\n",
        "WHOdata=pd.merge(WHO, regions)\n",
        "WHOdata\n",
        "WHOdata.rename(columns={'Population living below the poverty line (% living on &lt; US$1 per day)':'Pop_below_pov_line', 'Population median age (years)': 'Pop_median_age', 'WHO_Regio':'WHO_Region', 'Net primary school enrolment ratio male (%)': 'males_primary_school',\n",
        "                         'Net primary school enrolment ratio female (%)': 'females_primary_school', 'Life expectancy at birth (years) both sexes':'Life_exp_all', 'Life expectancy at birth (years) male':'Life_exp_male',\n",
        "                         'Life expectancy at birth (years) female':'Life_exp_female', \"Maternal mortality ratio (per 100 000 live births)\":\"Maternal_mort\", \"Income Group\":\"Income_Group\"}, inplace=True)\n",
        "\n",
        "WHOdata2=WHOdata[['Country','Population','Income_Group', 'WHO_Region','Democracy_score','Female_labour_force', 'Inequality_index', \n",
        "                 'Pop_median_age', 'Pop_below_pov_line', \n",
        "                  'Life_exp_all','Life_exp_male', 'Life_exp_female',\n",
        "                  'Maternal_mort', 'Literacy_rate_adult_female', 'Literacy_rate_adult_male',\n",
        "                  'Literacy_rate_adult_total', 'Literacy_rate_youth_female', 'Literacy_rate_youth_male', 'Literacy_rate_youth_total', \n",
        "                  'females_primary_school', 'males_primary_school'\n",
        "                  ]]\n",
        "                  \n",
        "from google.colab import drive\n",
        "drive.mount('drive')\n",
        "WHOdata2.to_csv('WHOdata2.csv')\n",
        "!cp WHOdata2.csv \"drive/My Drive/\""
      ],
      "execution_count": null,
      "outputs": [
        {
          "output_type": "stream",
          "text": [
            "Drive already mounted at drive; to attempt to forcibly remount, call drive.mount(\"drive\", force_remount=True).\n"
          ],
          "name": "stdout"
        }
      ]
    },
    {
      "cell_type": "code",
      "metadata": {
        "id": "eXAcTE6MeuRP",
        "colab_type": "code",
        "colab": {}
      },
      "source": [
        ""
      ],
      "execution_count": null,
      "outputs": []
    },
    {
      "cell_type": "code",
      "metadata": {
        "id": "oDrjlr_8AJHZ",
        "colab_type": "code",
        "colab": {}
      },
      "source": [
        ""
      ],
      "execution_count": null,
      "outputs": []
    }
  ]
}